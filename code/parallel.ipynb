{
 "cells": [
  {
   "cell_type": "code",
   "execution_count": null,
   "metadata": {},
   "outputs": [],
   "source": []
  },
  {
   "cell_type": "code",
   "execution_count": null,
   "metadata": {},
   "outputs": [
    {
     "name": "stdout",
     "output_type": "stream",
     "text": [
      "Time to compute properties for graph G: 0.01959991455078125\n"
     ]
    }
   ],
   "source": [
    "import networkx as nx\n",
    "import pandas as pd\n",
    "from tqdm import tqdm\n",
    "from multiprocessing import Pool, cpu_count\n",
    "import time\n",
    "\n",
    "\n",
    "# Define the function to compute graph properties\n",
    "def compute_properties(G):\n",
    "    properties = {\n",
    "        \"Average degree\": sum(dict(G.degree()).values()) / G.number_of_nodes(),\n",
    "        \"Max degree\": max(dict(G.degree()).values()),\n",
    "        \"Density\": nx.density(G),\n",
    "        \"Number of connected components\": nx.number_connected_components(G) if not G.is_directed() else \"N/A\",\n",
    "        \"Efficiency\": nx.global_efficiency(G),  # Alternative for average shortest path length for unconnected graphs\n",
    "        \"Transitivity\": nx.transitivity(G),\n",
    "        \"Average Clustering Coefficient\": nx.average_clustering(G),\n",
    "        \"Assortativity\": nx.degree_assortativity_coefficient(G),\n",
    "    }\n",
    "    return properties\n",
    "\n",
    "\n",
    "# Define a function for generating and computing properties of a random graph\n",
    "def compute_random_graph_properties(args):\n",
    "    G, seed = args\n",
    "    p = nx.density(G)\n",
    "    random_graph = nx.erdos_renyi_graph(n=G.number_of_nodes(), p=p, seed=seed)\n",
    "    return compute_properties(random_graph)\n",
    "\n",
    "\n",
    "# Main script\n",
    "if __name__ == \"__main__\":\n",
    "    # Example graph\n",
    "    G = nx.karate_club_graph()\n",
    "\n",
    "    # Measure time for the main graph\n",
    "    start_time = time.time()\n",
    "    properties_G = compute_properties(G)\n",
    "    end_time = time.time()\n",
    "    print(f\"Time to compute properties for graph G: {end_time - start_time}\")\n",
    "\n",
    "    # Parallelized computation of random graph properties\n",
    "    num_random_graphs = 3\n",
    "    seeds = range(num_random_graphs)\n",
    "\n",
    "    start_time = time.time()\n",
    "    with Pool(cpu_count()-3) as pool:\n",
    "        # Map inputs (G and seed) to the worker function\n",
    "        random_properties_list = pool.map(compute_random_graph_properties, [(G, seed) for seed in seeds])\n",
    "\n",
    "    end_time = time.time()\n",
    "    print(f\"Time to compute properties for random graphs: {end_time - start_time}\")\n",
    "\n",
    "    # Compute averages of random graph properties\n",
    "    random_properties_avg = pd.DataFrame(random_properties_list).mean(numeric_only=True).to_dict()\n",
    "\n",
    "    # Compare properties\n",
    "    comparison = pd.DataFrame({\"G Graph\": properties_G, \"Erdős-Rényi Avg\": random_properties_avg})\n",
    "    display(comparison)\n"
   ]
  }
 ],
 "metadata": {
  "kernelspec": {
   "display_name": ".main",
   "language": "python",
   "name": ".main"
  },
  "language_info": {
   "codemirror_mode": {
    "name": "ipython",
    "version": 3
   },
   "file_extension": ".py",
   "mimetype": "text/x-python",
   "name": "python",
   "nbconvert_exporter": "python",
   "pygments_lexer": "ipython3",
   "version": "3.11.8"
  }
 },
 "nbformat": 4,
 "nbformat_minor": 2
}
