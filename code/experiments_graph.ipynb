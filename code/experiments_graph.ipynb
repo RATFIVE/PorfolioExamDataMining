{
 "cells": [
  {
   "cell_type": "markdown",
   "metadata": {},
   "source": [
    "# Task 1 - Context"
   ]
  },
  {
   "cell_type": "code",
   "execution_count": 1,
   "metadata": {},
   "outputs": [],
   "source": [
    "\n",
    "import networkx as nx\n",
    "import pandas as pd\n",
    "import numpy as np\n",
    "import matplotlib.pyplot as plt\n",
    "from pathlib import Path\n",
    "import os\n",
    "import random\n",
    "from tqdm import tqdm\n",
    "import time \n",
    "\n"
   ]
  },
  {
   "cell_type": "markdown",
   "metadata": {},
   "source": [
    "# Task 2 - The Data\n",
    "\n",
    "Dataset information\n",
    "\n",
    "Network was collected by crawling Amazon website. It is based on Customers Who Bought This Item Also Bought feature of the Amazon website. If a product i is frequently co-purchased with product j, the graph contains an undirected edge from i to j. Each product category provided by Amazon defines each ground-truth community.\n",
    "\n",
    "We regard each connected component in a product category as a separate ground-truth community. We remove the ground-truth communities which have less than 3 nodes. We also provide the top 5,000 communities with highest quality which are described in our paper. As for the network, we provide the largest connected component. "
   ]
  },
  {
   "cell_type": "markdown",
   "metadata": {},
   "source": [
    "## Task\n",
    "- Explain the dataset itself (e.g., what do the nodes and edges represent?).\n",
    "- Explain how the dataset is suitable for the project from Task 1. Show a helpful visualization of\n",
    "(part of) to support your explanation."
   ]
  },
  {
   "cell_type": "code",
   "execution_count": 2,
   "metadata": {},
   "outputs": [
    {
     "data": {
      "text/html": [
       "<div>\n",
       "<style scoped>\n",
       "    .dataframe tbody tr th:only-of-type {\n",
       "        vertical-align: middle;\n",
       "    }\n",
       "\n",
       "    .dataframe tbody tr th {\n",
       "        vertical-align: top;\n",
       "    }\n",
       "\n",
       "    .dataframe thead th {\n",
       "        text-align: right;\n",
       "    }\n",
       "</style>\n",
       "<table border=\"1\" class=\"dataframe\">\n",
       "  <thead>\n",
       "    <tr style=\"text-align: right;\">\n",
       "      <th></th>\n",
       "      <th>from</th>\n",
       "      <th>to</th>\n",
       "    </tr>\n",
       "  </thead>\n",
       "  <tbody>\n",
       "    <tr>\n",
       "      <th>0</th>\n",
       "      <td>0</td>\n",
       "      <td>1</td>\n",
       "    </tr>\n",
       "    <tr>\n",
       "      <th>1</th>\n",
       "      <td>0</td>\n",
       "      <td>2</td>\n",
       "    </tr>\n",
       "    <tr>\n",
       "      <th>2</th>\n",
       "      <td>0</td>\n",
       "      <td>3</td>\n",
       "    </tr>\n",
       "    <tr>\n",
       "      <th>3</th>\n",
       "      <td>0</td>\n",
       "      <td>4</td>\n",
       "    </tr>\n",
       "    <tr>\n",
       "      <th>4</th>\n",
       "      <td>0</td>\n",
       "      <td>5</td>\n",
       "    </tr>\n",
       "  </tbody>\n",
       "</table>\n",
       "</div>"
      ],
      "text/plain": [
       "   from  to\n",
       "0     0   1\n",
       "1     0   2\n",
       "2     0   3\n",
       "3     0   4\n",
       "4     0   5"
      ]
     },
     "metadata": {},
     "output_type": "display_data"
    }
   ],
   "source": [
    "#/home/generalpegasus/Documents/Programme/PorfolioExamDataMining/data/twitch/DE/musae_DE_edges.csv\n",
    "#file_path = Path(os.path.join('..', 'data', 'twitch/DE/musae_DE_edges.csv'))\n",
    "temporary_file = Path(os.path.join('..', 'data', 'facebook_combined.txt'))\n",
    "df_graph = pd.read_csv(temporary_file, header=None, names=['from', 'to'], sep=' ')\n",
    "display(df_graph.head())"
   ]
  },
  {
   "cell_type": "code",
   "execution_count": 3,
   "metadata": {},
   "outputs": [
    {
     "data": {
      "text/html": [
       "<div>\n",
       "<style scoped>\n",
       "    .dataframe tbody tr th:only-of-type {\n",
       "        vertical-align: middle;\n",
       "    }\n",
       "\n",
       "    .dataframe tbody tr th {\n",
       "        vertical-align: top;\n",
       "    }\n",
       "\n",
       "    .dataframe thead th {\n",
       "        text-align: right;\n",
       "    }\n",
       "</style>\n",
       "<table border=\"1\" class=\"dataframe\">\n",
       "  <thead>\n",
       "    <tr style=\"text-align: right;\">\n",
       "      <th></th>\n",
       "      <th>from</th>\n",
       "      <th>to</th>\n",
       "    </tr>\n",
       "  </thead>\n",
       "  <tbody>\n",
       "    <tr>\n",
       "      <th>0</th>\n",
       "      <td>1</td>\n",
       "      <td>88160</td>\n",
       "    </tr>\n",
       "    <tr>\n",
       "      <th>1</th>\n",
       "      <td>1</td>\n",
       "      <td>118052</td>\n",
       "    </tr>\n",
       "    <tr>\n",
       "      <th>2</th>\n",
       "      <td>1</td>\n",
       "      <td>161555</td>\n",
       "    </tr>\n",
       "    <tr>\n",
       "      <th>3</th>\n",
       "      <td>1</td>\n",
       "      <td>244916</td>\n",
       "    </tr>\n",
       "    <tr>\n",
       "      <th>4</th>\n",
       "      <td>1</td>\n",
       "      <td>346495</td>\n",
       "    </tr>\n",
       "  </tbody>\n",
       "</table>\n",
       "</div>"
      ],
      "text/plain": [
       "   from      to\n",
       "0     1   88160\n",
       "1     1  118052\n",
       "2     1  161555\n",
       "3     1  244916\n",
       "4     1  346495"
      ]
     },
     "metadata": {},
     "output_type": "display_data"
    }
   ],
   "source": [
    "file_path = Path(os.path.join('..', 'data', 'com-amazon.ungraph.txt.gz'))\n",
    "df_graph = pd.read_csv(file_path, compression='gzip', delimiter='\\t', skiprows=3).rename(columns={'# FromNodeId': 'from', 'ToNodeId': 'to'})\n",
    "display(df_graph.head())"
   ]
  },
  {
   "cell_type": "markdown",
   "metadata": {},
   "source": [
    "# Task 3 – IDA and Preprocessing"
   ]
  },
  {
   "cell_type": "code",
   "execution_count": 4,
   "metadata": {},
   "outputs": [
    {
     "name": "stdout",
     "output_type": "stream",
     "text": [
      "Number of Edges: 925872\n",
      "Number of Nodes: 334863\n"
     ]
    }
   ],
   "source": [
    "G = nx.from_pandas_edgelist(df_graph, 'from', 'to')\n",
    "\n",
    "print(f'Number of Edges: {G.size()}')\n",
    "print(f'Number of Nodes: {G.order()}')\n",
    "\n"
   ]
  },
  {
   "cell_type": "markdown",
   "metadata": {},
   "source": [
    "## Handshaking Lemma\n",
    "The Handshaking Lemma is a fundamental rule which states for undirected graphs. \n",
    "The sum of the degree of all vertices in an undirected graph is equal to twice the number of edges.\n",
    "\n",
    "$\\sum_{v \\in V} \\deg(v) = 2 \\cdot |E|$\n",
    "\n",
    "The following code checks whether the graph is undirected by applying the Handshaking Lemma.\n",
    "\n",
    "For this we first bring the graph `G` into the Adjacency Matrix\n"
   ]
  },
  {
   "cell_type": "code",
   "execution_count": 5,
   "metadata": {},
   "outputs": [
    {
     "name": "stdout",
     "output_type": "stream",
     "text": [
      "Adjacency Matrix shape: \n",
      "(334863, 334863)\n",
      "\n",
      "Sum of the Degrees:\n",
      "1851744\n",
      "\n",
      "The Handshake Lemma holds\n"
     ]
    }
   ],
   "source": [
    "\n",
    "A = nx.adjacency_matrix(G)\n",
    "\n",
    "print(f'Adjacency Matrix shape: \\n{A.shape}\\n')\n",
    "\n",
    "print(f'Sum of the Degrees:\\n{A.sum()}\\n') # Summing up the degree\n",
    "\n",
    "if A.sum() == 2*G.size():\n",
    "    print('The Handshake Lemma holds')\n",
    "else:\n",
    "    print('The Handshake Lemma does not hold ')\n"
   ]
  },
  {
   "cell_type": "code",
   "execution_count": null,
   "metadata": {},
   "outputs": [],
   "source": []
  },
  {
   "cell_type": "markdown",
   "metadata": {},
   "source": [
    "## Basic Properties \n",
    "\n"
   ]
  },
  {
   "cell_type": "code",
   "execution_count": null,
   "metadata": {},
   "outputs": [
    {
     "name": "stdout",
     "output_type": "stream",
     "text": [
      "Number of nodes: 334863\n",
      "Number of edges: 925872\n",
      "Density 1.6513834036534368e-05\n",
      "Is undirected graph? True\n",
      "Number of connected components: 1\n",
      "Size of largest connected component: 334863\n",
      "Average cluster coefficient: 0.3967463932787655\n"
     ]
    }
   ],
   "source": [
    "def basic_graph_properties(G):\n",
    "    print('Number of nodes:', G.number_of_nodes())\n",
    "    print('Number of edges:', G.number_of_edges())\n",
    "    print('Density', nx.density(G))\n",
    "    is_undirected = not nx.is_directed(G)\n",
    "\n",
    "    print('Is undirected graph?', is_undirected)\n",
    "    if not nx.is_directed(G):\n",
    "        print('Number of connected components:', nx.number_connected_components(G))\n",
    "        largest_cc = max(nx.connected_components(G), key=len)\n",
    "        print('Size of largest connected component:', len(largest_cc))\n",
    "    print('Average cluster coefficient:', nx.average_clustering(G))\n",
    "\n"
   ]
  },
  {
   "cell_type": "markdown",
   "metadata": {},
   "source": [
    "### Degree Distribution\n",
    "The degree distribution show the frequency of degrees. How often occur a number of degrees of a graph. \n",
    "\n",
    "### CCRF\n",
    "The Complementary Cumulative Relative Frequency (CCRF) of Degrees is a statistical representation that shows the proportion of nodes in a graph whose degree is greater than or equal to a given value."
   ]
  },
  {
   "cell_type": "code",
   "execution_count": null,
   "metadata": {},
   "outputs": [
    {
     "data": {
      "image/png": "[encoded data removed]",
      "text/plain": [
       "<Figure size 1200x600 with 2 Axes>"
      ]
     },
     "metadata": {},
     "output_type": "display_data"
    }
   ],
   "source": [
    "def degree_distribution(G):\n",
    "    \n",
    "\n",
    "    # Degree distribution\n",
    "    degrees = [d for _, d in G.degree()]\n",
    "    #degree_hist = np.histogram(degrees, bins=range(min(degrees), max(degrees) + 1))\n",
    "\n",
    "    # CCDF\n",
    "    degree_counts = np.bincount(degrees)\n",
    "    ccdf = 1.0 - np.cumsum(degree_counts) / sum(degree_counts)\n",
    "\n",
    "    # Plot\n",
    "    plt.figure(figsize=(12, 6))\n",
    "\n",
    "    # Degree Distribution\n",
    "    plt.subplot(1, 2, 1)\n",
    "    plt.hist(degrees, bins=30, edgecolor=\"k\")\n",
    "    plt.xlabel(\"Degree\")\n",
    "    plt.ylabel(\"Frequency\")\n",
    "    plt.title(\"Degree Distribution\")\n",
    "\n",
    "    # CCDF\n",
    "    plt.subplot(1, 2, 2)\n",
    "    plt.plot(range(len(ccdf)), ccdf, marker=\"o\", linestyle=\"none\")\n",
    "    plt.xscale(\"log\")\n",
    "    plt.yscale(\"log\")\n",
    "    plt.xlabel(\"Degree (log scale)\")\n",
    "    plt.ylabel(\"CCDF (log scale)\")\n",
    "    plt.title(\"Complementary Cumulative Distribution Function\")\n",
    "\n",
    "    plt.tight_layout()\n",
    "    plt.show()\n",
    "\n",
    "degree_distribution(G)\n",
    "basic_graph_properties(G)"
   ]
  },
  {
   "cell_type": "code",
   "execution_count": null,
   "metadata": {},
   "outputs": [
    {
     "name": "stdout",
     "output_type": "stream",
     "text": [
      "Properties after preprocessing:\n",
      "\n",
      "Number of nodes: 158714\n",
      "Number of edges: 486140\n",
      "Density 3.8597894473296324e-05\n",
      "Is undirected graph? True\n",
      "Number of connected components: 2351\n",
      "Size of largest connected component: 145592\n",
      "Average cluster coefficient: 0.4988070226890526\n"
     ]
    },
    {
     "data": {
      "image/png": "[encoded data removed]",
      "text/plain": [
       "<Figure size 1200x600 with 2 Axes>"
      ]
     },
     "metadata": {},
     "output_type": "display_data"
    }
   ],
   "source": [
    "def preprocessing(G):\n",
    "    # Preprocessing examples\n",
    "    G = nx.Graph(G)  # Convert to undirected (if necessary)\n",
    "    G.remove_edges_from(nx.selfloop_edges(G))  # Remove self-loops\n",
    "    G.remove_nodes_from(list(nx.isolates(G)))  # Remove isolated nodes\n",
    "\n",
    "    # Optionally filter by degree\n",
    "    degree_threshold = 5\n",
    "    low_degree_nodes = [n for n, d in G.degree() if d < degree_threshold]\n",
    "    G.remove_nodes_from(low_degree_nodes)\n",
    "    return G\n",
    "\n",
    "G = preprocessing(G)\n",
    "\n",
    "\n",
    "print(\"Properties after preprocessing:\\n\")\n",
    "\n",
    "degree_distribution(G)\n",
    "basic_graph_properties(G)\n"
   ]
  },
  {
   "cell_type": "markdown",
   "metadata": {},
   "source": [
    "# Task 4 – Graph Properties\n",
    "\n",
    "## Explaination\n",
    "\n",
    "**Number of nodes:**\n",
    "\n",
    "Number of nodes is the number of Persons in the Network\n",
    "\n",
    "**Number of edges:**\n",
    "\n",
    "Number of Edges are the number of cennections in a Network\n",
    "\n",
    "**Node with highest degree:**\n",
    "The Node which has the highest number of connections\n",
    "\n",
    "\n",
    "**Node with highest betweenness:**\n",
    "...\n",
    "\n",
    "---\n",
    "\n",
    "\n",
    "**Average degree:**\n",
    "...\n",
    "\n",
    "---\n",
    "\n",
    "**Max degree:**\n",
    "...\n",
    "\n",
    "---\n",
    "\n",
    "**Number of connected components:**\n",
    "...\n",
    "\n",
    "---\n",
    "\n",
    "**Transitivity:**\n",
    "\n",
    "The Transitivity (Global Clustering Coefficient) is defined as the ratio of the number of closed triplets (triangles) to the total number of connected triplets of nodes in the graph. In sozial Networks: How many friends share the same friends as you do.\n",
    "\n",
    "Let $(a_{a,v})_{u,v \\in V}$ be the adjacency matrix of Graph G\n",
    "\n",
    "transitivity of G is the fraction of closed triplets (3 nodes connected by three edges) among all dyads (three nodes connected by at least two edges)\n",
    "\n",
    "$\\frac{ \\sum_{u,v,w \\in V} a_{u,v} a_{v,w} a_{w,u} }{ \\sum_{v \\in V} deg(v) \\cdot (deg(v) - 1) }$\n",
    "\n",
    "\n",
    "0: No clustering (no triangles in the graph).\n",
    "\n",
    "1: Perfect clustering (every possible triplet forms a triangle, as in a complete graph)\n",
    "\n",
    "---\n",
    "\n",
    "**Density:**\n",
    "\n",
    "The [density](https://en.wikipedia.org/wiki/Dense_graph) of an undirected graph measures how \"completet\" the graph is. Its a measure of how many edges a graph has to the maximum possible number of edges. \n",
    "Complete graphs have a density D = 1 and a graph with no edges (empty graph) is D = 0.\n",
    "\n",
    "Density is defined as:\n",
    "\n",
    "$D = \\frac{2 \\cdot |E|}{|V|(|V|-1)}$\n",
    "\n",
    "with:\n",
    "- |E|: Number of edges\n",
    "- |V|: Number of Nodes\n",
    "\n",
    "**Diameter:**\n",
    "\n",
    "The length of the longest shortest path in a graph is called the **diameter** of the graph.\n",
    "\n",
    "**Average shortest path length:**\n",
    "\n",
    "How quckly can information spread through the graph\n",
    "\n",
    "**Efficiency:**\n",
    "\n",
    "Is the average of the inverse shortest path lengths between to pairs of nodes. It measures how \"efficient\" the graph is in terms of connectivity and accessibility.\n",
    "\n",
    "\n",
    "Erdős–Rényi random graph model with fix number of nodes and number of edges"
   ]
  },
  {
   "cell_type": "code",
   "execution_count": null,
   "metadata": {},
   "outputs": [],
   "source": [
    "def compute_properties(G):\n",
    "    properties = {\n",
    "        \"Number of nodes\": G.number_of_nodes(),\n",
    "        \"Number of edges\": G.number_of_edges(),\n",
    "        \"Node with highest degree\": max(dict(G.degree()), key=lambda x: G.degree[x]),\n",
    "        \"Node with highest betweenness\": max(nx.betweenness_centrality(G).items(), key=lambda x: x[1])[0],\n",
    "        \"Average degree\": sum(dict(G.degree()).values()) / G.number_of_nodes(),\n",
    "        \"Max degree\": max(dict(G.degree()).values()),\n",
    "        #\"Density\": nx.density(G),\n",
    "        \"Number of connected components\": nx.number_connected_components(G) if not G.is_directed() else \"N/A\",\n",
    "        #\"Diameter\": nx.diameter(G) if nx.is_connected(G) else \"Graph not connected\",\n",
    "        #\"Average Shortest Path Length\": nx.average_shortest_path_length(G) if nx.is_connected(G) else \"Graph not connected\",\n",
    "        #\"Efficiency\": nx.global_efficiency(G),\n",
    "        #\"Transitivity\": nx.transitivity(G),\n",
    "        \"Average Clustering Coefficient\": nx.average_clustering(G),\n",
    "        #\"Assortativity\": nx.degree_assortativity_coefficient(G),\n",
    "    }\n",
    "    return properties\n",
    "\n",
    "\n",
    "start_time = time.time()\n",
    "# Properties of G\n",
    "properties_G = compute_properties(G)\n",
    "end_time = time.time()\n",
    "print(f'Time to compute properties for graph G: {end_time - start_time}')\n",
    "\n",
    "# Erdős–Rényi Random Graphs   \n",
    "random_properties_list = []\n",
    "\n",
    "# Compute graph properties for different random Erdős–Rényi graphs with 10 different seeds\n",
    "for seed in tqdm(range(10)):\n",
    "    random_graph = nx.gnm_random_graph(n=G.number_of_nodes(), m=G.number_of_edges(), seed=seed)\n",
    "    random_properties = compute_properties(random_graph)\n",
    "    random_properties_list.append(random_properties)  \n",
    "\n",
    "# Compute averages of random graph properties\n",
    "random_properties_avg = pd.DataFrame(random_properties_list).mean().to_dict()\n",
    "\n",
    "# Compare properties\n",
    "comparison = pd.DataFrame({\"G Graph\": properties_G, \"Erdős-Rényi Avg\": random_properties_avg})\n",
    "display(comparison)\n"
   ]
  },
  {
   "cell_type": "code",
   "execution_count": null,
   "metadata": {},
   "outputs": [],
   "source": []
  },
  {
   "cell_type": "markdown",
   "metadata": {},
   "source": [
    "# Task 5 – Central Nodes"
   ]
  },
  {
   "cell_type": "markdown",
   "metadata": {
    "vscode": {
     "languageId": "latex"
    }
   },
   "source": [
    "import networkx as nx\n",
    "import pandas as pd\n",
    "\n",
    "def compute_centrality_measures(G):\n",
    "    centrality_measures = {\n",
    "        #\"Node\": list(G.nodes()),\n",
    "        \"Degree Centrality\": nx.degree_centrality(G),\n",
    "        \"Betweenness Centrality\": nx.betweenness_centrality(G),\n",
    "        \"Closeness Centrality\": nx.closeness_centrality(G),\n",
    "        \"Eigenvector Centrality\": nx.eigenvector_centrality(G, max_iter=1000),\n",
    "        \"PageRank\": nx.pagerank(G),\n",
    "    }\n",
    "    \n",
    "    # Convert to DataFrame\n",
    "    #df = pd.DataFrame(centrality_measures)\n",
    "    return centrality_measures\n",
    "\n",
    "centrality_df = compute_centrality_measures(G)\n",
    "print(centrality_df)  # Preview the results\n"
   ]
  },
  {
   "cell_type": "markdown",
   "metadata": {},
   "source": [
    "# Task 6 – Node Roles"
   ]
  },
  {
   "cell_type": "code",
   "execution_count": null,
   "metadata": {},
   "outputs": [],
   "source": []
  },
  {
   "cell_type": "markdown",
   "metadata": {},
   "source": [
    "# Task 7 – Community Discovery"
   ]
  },
  {
   "cell_type": "code",
   "execution_count": null,
   "metadata": {},
   "outputs": [],
   "source": []
  },
  {
   "cell_type": "markdown",
   "metadata": {},
   "source": [
    "# Task 8 – Conclusions and Future Work"
   ]
  },
  {
   "cell_type": "code",
   "execution_count": null,
   "metadata": {},
   "outputs": [],
   "source": []
  }
 ],
 "metadata": {
  "kernelspec": {
   "display_name": ".main",
   "language": "python",
   "name": ".main"
  },
  "language_info": {
   "codemirror_mode": {
    "name": "ipython",
    "version": 3
   },
   "file_extension": ".py",
   "mimetype": "text/x-python",
   "name": "python",
   "nbconvert_exporter": "python",
   "pygments_lexer": "ipython3",
   "version": "3.11.8"
  }
 },
 "nbformat": 4,
 "nbformat_minor": 2
}
